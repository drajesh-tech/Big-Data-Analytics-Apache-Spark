{
 "cells": [
  {
   "cell_type": "markdown",
   "metadata": {},
   "source": [
    "#                              NYC Parking Tickets: An Exploratory Analysis"
   ]
  },
  {
   "cell_type": "markdown",
   "metadata": {},
   "source": [
    "## Objectives of the Case Study"
   ]
  },
  {
   "cell_type": "markdown",
   "metadata": {},
   "source": [
    "- Primarily, this case study is meant as a deep dive into the usage of Spark. One of the major objectives of this case study is to gain familiarity with how analysis works in PySpark as opposed to base Python.\n",
    "\n",
    "- Learning the basic idea behind using functions in PySpark can help in using other libraries.\n",
    "\n",
    "- The process of running a model-building command boils down to a few lines of code. While drawing inferences from data, the most time-consuming step is preparing the data up to the point of model building. So, this case study will focus more on exploratory analysis."
   ]
  },
  {
   "cell_type": "markdown",
   "metadata": {},
   "source": [
    "## Problem Statement"
   ]
  },
  {
   "cell_type": "markdown",
   "metadata": {},
   "source": [
    "New York City is a thriving metropolis. Just like most other metros its size, one of the biggest problems its citizens face is parking. The classic combination of a huge number of cars and cramped geography leads to a huge number of parking tickets.\n",
    "\n",
    "In an attempt to scientifically analyse this phenomenon, the NYC Police Department has collected data for parking tickets. For the scope of this analysis, we will analyse the parking tickets over the year 2017. \n",
    "\n",
    "The purpose of this case study is to conduct an exploratory data analysis that will understand the data."
   ]
  },
  {
   "cell_type": "markdown",
   "metadata": {},
   "source": [
    "### Step 1. Reading and Inspecting the data"
   ]
  },
  {
   "cell_type": "code",
   "execution_count": 1,
   "metadata": {},
   "outputs": [],
   "source": [
    "# Supress Warnings\n",
    "\n",
    "import warnings\n",
    "warnings.filterwarnings('ignore')"
   ]
  },
  {
   "cell_type": "code",
   "execution_count": 2,
   "metadata": {},
   "outputs": [],
   "source": [
    "# Import the numpy, pandas, datetime, matplotlib, & seaborn packages\n",
    "\n",
    "import numpy as np\n",
    "import pandas as pd\n",
    "import datetime\n",
    "import matplotlib.pyplot as plt\n",
    "import seaborn as sns\n",
    "sns.set_style(\"whitegrid\", {'axes.grid' : False})"
   ]
  },
  {
   "cell_type": "code",
   "execution_count": 3,
   "metadata": {},
   "outputs": [],
   "source": [
    "# Create a spark session\n",
    "\n",
    "from pyspark.sql import SparkSession\n",
    "spark = SparkSession.builder.appName('NYC Parking Data Analysis').getOrCreate()"
   ]
  },
  {
   "cell_type": "code",
   "execution_count": 4,
   "metadata": {},
   "outputs": [
    {
     "data": {
      "text/plain": [
       "DataFrame[Summons Number: bigint, Plate ID: string, Registration State: string, Issue Date: timestamp, Violation Code: int, Vehicle Body Type: string, Vehicle Make: string, Violation Precinct: int, Issuer Precinct: int, Violation Time: string]"
      ]
     },
     "execution_count": 4,
     "metadata": {},
     "output_type": "execute_result"
    }
   ],
   "source": [
    "# Read the csv file\n",
    "\n",
    "parking_df = spark.read.format(\"csv\")\\\n",
    "                  .option(\"header\", \"true\")\\\n",
    "                  .option(\"inferSchema\", \"true\")\\\n",
    "                  .load(\"/common_folder/nyc_parking/Parking_Violations_Issued_-_Fiscal_Year_2017.csv\")\n",
    "\n",
    "parking_df"
   ]
  },
  {
   "cell_type": "code",
   "execution_count": 5,
   "metadata": {},
   "outputs": [
    {
     "name": "stdout",
     "output_type": "stream",
     "text": [
      "root\n",
      " |-- Summons Number: long (nullable = true)\n",
      " |-- Plate ID: string (nullable = true)\n",
      " |-- Registration State: string (nullable = true)\n",
      " |-- Issue Date: timestamp (nullable = true)\n",
      " |-- Violation Code: integer (nullable = true)\n",
      " |-- Vehicle Body Type: string (nullable = true)\n",
      " |-- Vehicle Make: string (nullable = true)\n",
      " |-- Violation Precinct: integer (nullable = true)\n",
      " |-- Issuer Precinct: integer (nullable = true)\n",
      " |-- Violation Time: string (nullable = true)\n",
      "\n"
     ]
    }
   ],
   "source": [
    "# Show the schema for datatypes\n",
    "\n",
    "parking_df.printSchema()"
   ]
  },
  {
   "cell_type": "code",
   "execution_count": 6,
   "metadata": {},
   "outputs": [
    {
     "data": {
      "text/plain": [
       "10803028"
      ]
     },
     "execution_count": 6,
     "metadata": {},
     "output_type": "execute_result"
    }
   ],
   "source": [
    "# Check for the number of rows \n",
    "\n",
    "parking_df.count()"
   ]
  },
  {
   "cell_type": "code",
   "execution_count": 7,
   "metadata": {},
   "outputs": [
    {
     "data": {
      "text/plain": [
       "10"
      ]
     },
     "execution_count": 7,
     "metadata": {},
     "output_type": "execute_result"
    }
   ],
   "source": [
    "# Check for number of columns\n",
    "\n",
    "len(parking_df.columns)"
   ]
  },
  {
   "cell_type": "code",
   "execution_count": 8,
   "metadata": {},
   "outputs": [
    {
     "name": "stdout",
     "output_type": "stream",
     "text": [
      "+--------------+--------+------------------+-------------------+--------------+-----------------+------------+------------------+---------------+--------------+\n",
      "|Summons Number|Plate ID|Registration State|         Issue Date|Violation Code|Vehicle Body Type|Vehicle Make|Violation Precinct|Issuer Precinct|Violation Time|\n",
      "+--------------+--------+------------------+-------------------+--------------+-----------------+------------+------------------+---------------+--------------+\n",
      "|    5092469481| GZH7067|                NY|2016-07-10 00:00:00|             7|             SUBN|       TOYOT|                 0|              0|         0143A|\n",
      "|    5092451658| GZH7067|                NY|2016-07-08 00:00:00|             7|             SUBN|       TOYOT|                 0|              0|         0400P|\n",
      "|    4006265037| FZX9232|                NY|2016-08-23 00:00:00|             5|             SUBN|        FORD|                 0|              0|         0233P|\n",
      "|    8478629828| 66623ME|                NY|2017-06-14 00:00:00|            47|             REFG|       MITSU|                14|             14|         1120A|\n",
      "|    7868300310| 37033JV|                NY|2016-11-21 00:00:00|            69|             DELV|       INTER|                13|             13|         0555P|\n",
      "+--------------+--------+------------------+-------------------+--------------+-----------------+------------+------------------+---------------+--------------+\n",
      "only showing top 5 rows\n",
      "\n"
     ]
    }
   ],
   "source": [
    "# Display the first 5 rows of data\n",
    "\n",
    "parking_df.show(5)"
   ]
  },
  {
   "cell_type": "code",
   "execution_count": 9,
   "metadata": {},
   "outputs": [
    {
     "name": "stdout",
     "output_type": "stream",
     "text": [
      "+-------+--------------------+--------+------------------+------------------+------------------+------------------+------------------+-----------------+-----------------+\n",
      "|summary|      Summons Number|Plate ID|Registration State|    Violation Code| Vehicle Body Type|      Vehicle Make|Violation Precinct|  Issuer Precinct|   Violation Time|\n",
      "+-------+--------------------+--------+------------------+------------------+------------------+------------------+------------------+-----------------+-----------------+\n",
      "|  count|            10803028|10803028|          10803028|          10803028|          10803028|          10803028|          10803028|         10803028|         10803028|\n",
      "|   mean|6.8174470290656595E9|Infinity|              99.0|34.599430455979565|3.9258887134586864| 6519.974025974026| 45.01216260848347|46.82931211508477|909.2857142857143|\n",
      "| stddev|2.3202339623282285E9|     NaN|               0.0|19.359868716323483|0.5013415469252523|18091.257389147086|40.552560268435805|62.66703577269466|791.8453853409226|\n",
      "|    min|          1002884949|   #1MOM|                99|                 0|                00|             ,FREI|                 0|                0|            .240P|\n",
      "|    max|          8585600044|       ~|                WY|                99|               nan|               nan|               933|              997|              nan|\n",
      "+-------+--------------------+--------+------------------+------------------+------------------+------------------+------------------+-----------------+-----------------+\n",
      "\n"
     ]
    }
   ],
   "source": [
    "# Show the statistics\n",
    "\n",
    "parking_df.describe().show()"
   ]
  },
  {
   "cell_type": "code",
   "execution_count": 10,
   "metadata": {},
   "outputs": [
    {
     "name": "stdout",
     "output_type": "stream",
     "text": [
      "+--------------+--------+------------------+-------------------+--------------+-----------------+------------+------------------+---------------+--------------+\n",
      "|Summons_Number|Plate_ID|Registration_State|         Issue_Date|Violation_Code|Vehicle_Body_Type|Vehicle_Make|Violation_Precinct|Issuer_Precinct|Violation_Time|\n",
      "+--------------+--------+------------------+-------------------+--------------+-----------------+------------+------------------+---------------+--------------+\n",
      "|    5092469481| GZH7067|                NY|2016-07-10 00:00:00|             7|             SUBN|       TOYOT|                 0|              0|         0143A|\n",
      "|    5092451658| GZH7067|                NY|2016-07-08 00:00:00|             7|             SUBN|       TOYOT|                 0|              0|         0400P|\n",
      "|    4006265037| FZX9232|                NY|2016-08-23 00:00:00|             5|             SUBN|        FORD|                 0|              0|         0233P|\n",
      "|    8478629828| 66623ME|                NY|2017-06-14 00:00:00|            47|             REFG|       MITSU|                14|             14|         1120A|\n",
      "|    7868300310| 37033JV|                NY|2016-11-21 00:00:00|            69|             DELV|       INTER|                13|             13|         0555P|\n",
      "+--------------+--------+------------------+-------------------+--------------+-----------------+------------+------------------+---------------+--------------+\n",
      "only showing top 5 rows\n",
      "\n"
     ]
    }
   ],
   "source": [
    "# Replace ' ' with '_' in column headers so as to avoid any issues while using the queries...\n",
    "\n",
    "parking_df = parking_df.toDF(*(colName.replace(' ', '_') for colName in parking_df.columns))\n",
    "parking_df.show(5)"
   ]
  },
  {
   "cell_type": "code",
   "execution_count": 11,
   "metadata": {},
   "outputs": [
    {
     "name": "stdout",
     "output_type": "stream",
     "text": [
      "Count before dropping null values :  10803028\n",
      "Count after dropping null values  :  10803028\n"
     ]
    }
   ],
   "source": [
    "# Remove null values\n",
    "\n",
    "# Check the count before dropping null values\n",
    "print('Count before dropping null values : ', parking_df.count())\n",
    "\n",
    "# drop null values\n",
    "parking_df = parking_df.na.drop()\n",
    "\n",
    "# Check the count after dropping the null values\n",
    "print('Count after dropping null values  : ', parking_df.count())"
   ]
  },
  {
   "cell_type": "markdown",
   "metadata": {},
   "source": [
    "There are no null values in the data."
   ]
  },
  {
   "cell_type": "code",
   "execution_count": 12,
   "metadata": {},
   "outputs": [
    {
     "name": "stdout",
     "output_type": "stream",
     "text": [
      "Count before dropping duplicate summon numbers :  10803028\n",
      "Count before dropping duplicate summon numbers :  10803028\n"
     ]
    }
   ],
   "source": [
    "# Drop duplicate values based on the summons number column\n",
    "\n",
    "# Check the count before dropping duplicate summon numbers\n",
    "print('Count before dropping duplicate summon numbers : ', parking_df.count())\n",
    "\n",
    "# drop duplicate summon numbers\n",
    "parking_df.select('Summons_Number').dropDuplicates()\n",
    "\n",
    "# Check the count after dropping duplicate summon numbers\n",
    "print('Count before dropping duplicate summon numbers : ', parking_df.count())"
   ]
  },
  {
   "cell_type": "markdown",
   "metadata": {},
   "source": [
    "There are no duplicate rows in the data"
   ]
  },
  {
   "cell_type": "markdown",
   "metadata": {},
   "source": [
    "### Step 2. Create a Temp Table"
   ]
  },
  {
   "cell_type": "code",
   "execution_count": 13,
   "metadata": {},
   "outputs": [],
   "source": [
    "# Create/Replace a Temp View\n",
    "\n",
    "parking_df.createOrReplaceTempView(\"parking\")"
   ]
  },
  {
   "cell_type": "code",
   "execution_count": 14,
   "metadata": {},
   "outputs": [
    {
     "data": {
      "text/plain": [
       "DataFrame[Summons_Number: bigint, Plate_ID: string, Registration_State: string, Issue_Date: timestamp, Violation_Code: int, Vehicle_Body_Type: string, Vehicle_Make: string, Violation_Precinct: int, Issuer_Precinct: int, Violation_Time: string]"
      ]
     },
     "execution_count": 14,
     "metadata": {},
     "output_type": "execute_result"
    }
   ],
   "source": [
    "# Run a sample query on the parking table\n",
    "\n",
    "spark.sql('select * from parking')"
   ]
  },
  {
   "cell_type": "markdown",
   "metadata": {},
   "source": [
    "### Step 3 : Data Cleaning and Data Preparation"
   ]
  },
  {
   "cell_type": "markdown",
   "metadata": {},
   "source": [
    "#### 3.1. Let us first filter the data for the year 2017 and create a new table with that data"
   ]
  },
  {
   "cell_type": "code",
   "execution_count": 15,
   "metadata": {},
   "outputs": [
    {
     "name": "stdout",
     "output_type": "stream",
     "text": [
      "+----+-------------+\n",
      "|year|no_of_tickets|\n",
      "+----+-------------+\n",
      "|2069|            4|\n",
      "|2068|            1|\n",
      "|2063|            2|\n",
      "|2062|            2|\n",
      "|2061|            1|\n",
      "|2060|            2|\n",
      "|2053|            1|\n",
      "|2047|            2|\n",
      "|2041|            1|\n",
      "|2036|            1|\n",
      "|2033|            2|\n",
      "|2031|            5|\n",
      "|2030|           12|\n",
      "|2029|            2|\n",
      "|2028|            8|\n",
      "|2027|           50|\n",
      "|2026|           24|\n",
      "|2025|            6|\n",
      "|2024|            3|\n",
      "|2023|            5|\n",
      "|2022|            4|\n",
      "|2021|           22|\n",
      "|2020|           22|\n",
      "|2019|          472|\n",
      "|2018|         1057|\n",
      "|2017|      5431918|\n",
      "|2016|      5368391|\n",
      "|2015|          419|\n",
      "|2014|          120|\n",
      "|2013|           70|\n",
      "|2012|           87|\n",
      "|2011|           22|\n",
      "|2010|           48|\n",
      "|2009|            3|\n",
      "|2008|            4|\n",
      "|2007|           18|\n",
      "|2006|            8|\n",
      "|2005|            1|\n",
      "|2004|            2|\n",
      "|2003|            1|\n",
      "|2002|            1|\n",
      "|2001|            2|\n",
      "|2000|          185|\n",
      "|1997|            1|\n",
      "|1996|            1|\n",
      "|1994|            1|\n",
      "|1991|            3|\n",
      "|1990|            2|\n",
      "|1985|            1|\n",
      "|1984|            1|\n",
      "|1977|            1|\n",
      "|1976|            1|\n",
      "|1974|            1|\n",
      "|1973|            2|\n",
      "|1972|            2|\n",
      "+----+-------------+\n",
      "\n"
     ]
    }
   ],
   "source": [
    "# Find the total number of tickets for each year\n",
    "\n",
    "year_wise_tickets = spark.sql(\"select year(Issue_Date) as year, count(Summons_Number) as no_of_tickets from parking \\\n",
    "                              group by year order by year desc\")\n",
    "\n",
    "year_wise_tickets.show(70)"
   ]
  },
  {
   "cell_type": "code",
   "execution_count": 16,
   "metadata": {},
   "outputs": [
    {
     "data": {
      "text/plain": [
       "55"
      ]
     },
     "execution_count": 16,
     "metadata": {},
     "output_type": "execute_result"
    }
   ],
   "source": [
    "# Check the count of years for which the summons have been raised\n",
    "\n",
    "year_wise_tickets.count()"
   ]
  },
  {
   "cell_type": "markdown",
   "metadata": {},
   "source": [
    "Following can be inferred from the above results :\n",
    "    - The data contains information about the parking tickets for 55 years between 1972 to 2069\n",
    "    - 2017 has maximum number of parking tickets followed by 2016\n",
    "    - Since we would only be analysing 2017 related data, let us filter out only 2017 related data."
   ]
  },
  {
   "cell_type": "code",
   "execution_count": 17,
   "metadata": {},
   "outputs": [
    {
     "data": {
      "text/plain": [
       "5431918"
      ]
     },
     "execution_count": 17,
     "metadata": {},
     "output_type": "execute_result"
    }
   ],
   "source": [
    "# Filter out only 2017 related data\n",
    "\n",
    "parking2017 = spark.sql(\"select * from parking \\\n",
    "                         where year(to_date(cast(unix_timestamp(Issue_Date,'MM/dd/yyyy') as timestamp))) = 2017\")\n",
    "\n",
    "parking2017.count()"
   ]
  },
  {
   "cell_type": "code",
   "execution_count": 18,
   "metadata": {},
   "outputs": [],
   "source": [
    "# Create a new temp table with the 2017 data.\n",
    "\n",
    "parking2017.createOrReplaceTempView(\"parking_2017\")"
   ]
  },
  {
   "cell_type": "code",
   "execution_count": 19,
   "metadata": {},
   "outputs": [
    {
     "name": "stdout",
     "output_type": "stream",
     "text": [
      "+-------------+\n",
      "|summons_count|\n",
      "+-------------+\n",
      "|      5431918|\n",
      "+-------------+\n",
      "\n"
     ]
    }
   ],
   "source": [
    "# Check the count of rows in parking_2017 table\n",
    "\n",
    "spark.sql(\"select count(distinct Summons_Number) as summons_count FROM parking_2017\").show()"
   ]
  },
  {
   "cell_type": "markdown",
   "metadata": {},
   "source": [
    "Based on the above results the table parking_2017 contains 54,31,918 rows of data"
   ]
  },
  {
   "cell_type": "markdown",
   "metadata": {},
   "source": [
    "#### 3.2. Check the Plate Id for any erroneous data and if exists remove the erroneous data"
   ]
  },
  {
   "cell_type": "code",
   "execution_count": 20,
   "metadata": {},
   "outputs": [
    {
     "name": "stdout",
     "output_type": "stream",
     "text": [
      "+----------+------------+\n",
      "|  plate_id|ticket_count|\n",
      "+----------+------------+\n",
      "|BLANKPLATE|        5261|\n",
      "|   96089MA|         529|\n",
      "|   96087MA|         528|\n",
      "|   94905JA|         527|\n",
      "|   14828MJ|         526|\n",
      "|   85848MD|         512|\n",
      "|   30954JX|         510|\n",
      "|   2121796|         507|\n",
      "|   16242TC|         496|\n",
      "|   2194153|         495|\n",
      "|   77116MA|         493|\n",
      "|   47603MD|         492|\n",
      "|   12359MG|         474|\n",
      "|   16208TC|         468|\n",
      "|   49731MA|         464|\n",
      "|   14829MJ|         460|\n",
      "|    XEEF98|         458|\n",
      "|   49331KA|         458|\n",
      "|   2028685|         454|\n",
      "|    AT459E|         452|\n",
      "+----------+------------+\n",
      "only showing top 20 rows\n",
      "\n"
     ]
    }
   ],
   "source": [
    "# Check the tickets issued based on plate ids\n",
    "\n",
    "check_plate_id = spark.sql(\"select Plate_ID as plate_id, count(*) as ticket_count \\\n",
    "                          from parking_2017 \\\n",
    "                          group by plate_id \\\n",
    "                          having count(*) > 1 \\\n",
    "                          order by ticket_count desc\")\n",
    "\n",
    "check_plate_id.show()"
   ]
  },
  {
   "cell_type": "markdown",
   "metadata": {},
   "source": [
    "The above result shows that there is a plate_id named 'BLANKPLATE' which doesn't seem to be a valid plate it. \n",
    "Hence we shall go ahead and remove the rows pertaining to 'BLANKPLATE' plate_id"
   ]
  },
  {
   "cell_type": "code",
   "execution_count": 21,
   "metadata": {},
   "outputs": [
    {
     "data": {
      "text/plain": [
       "5426657"
      ]
     },
     "execution_count": 21,
     "metadata": {},
     "output_type": "execute_result"
    }
   ],
   "source": [
    "# Remove the rows containing value as BLANKPLATE for plate_id\n",
    "\n",
    "parking2017 = parking2017[parking2017.Plate_ID != 'BLANKPLATE']\n",
    "parking2017.count()"
   ]
  },
  {
   "cell_type": "code",
   "execution_count": 22,
   "metadata": {},
   "outputs": [],
   "source": [
    "# update the temp table with the current data\n",
    "\n",
    "parking2017.createOrReplaceTempView(\"parking_2017\")"
   ]
  },
  {
   "cell_type": "code",
   "execution_count": 23,
   "metadata": {},
   "outputs": [
    {
     "name": "stdout",
     "output_type": "stream",
     "text": [
      "+-------+\n",
      "|  count|\n",
      "+-------+\n",
      "|5426657|\n",
      "+-------+\n",
      "\n"
     ]
    }
   ],
   "source": [
    "# Check the count now \n",
    "\n",
    "spark.sql(\"select count(*) as count FROM parking_2017\").show()"
   ]
  },
  {
   "cell_type": "markdown",
   "metadata": {},
   "source": [
    "#### 3.3. Check the Registered State for any erroneous data and if exists replace the erroneous data with a valid data"
   ]
  },
  {
   "cell_type": "code",
   "execution_count": 24,
   "metadata": {},
   "outputs": [
    {
     "name": "stdout",
     "output_type": "stream",
     "text": [
      "+------------------+------------+\n",
      "|registration_state|ticket_count|\n",
      "+------------------+------------+\n",
      "|                NY|     4273951|\n",
      "|                NJ|      475825|\n",
      "|                PA|      140286|\n",
      "|                CT|       70403|\n",
      "|                FL|       69468|\n",
      "|                IN|       45525|\n",
      "|                MA|       38941|\n",
      "|                VA|       34367|\n",
      "|                MD|       30213|\n",
      "|                NC|       27152|\n",
      "|                TX|       18827|\n",
      "|                IL|       18666|\n",
      "|                GA|       17537|\n",
      "|                AZ|       12379|\n",
      "|                OH|       12281|\n",
      "|                CA|       12153|\n",
      "|                ME|       10806|\n",
      "|                99|       10794|\n",
      "|                SC|       10395|\n",
      "|                MN|       10083|\n",
      "|                OK|        9088|\n",
      "|                TN|        8514|\n",
      "|                DE|        7905|\n",
      "|                MI|        7231|\n",
      "|                RI|        5814|\n",
      "|                NH|        4119|\n",
      "|                VT|        3683|\n",
      "|                AL|        3178|\n",
      "|                WA|        3052|\n",
      "|                OR|        2622|\n",
      "|                MO|        2483|\n",
      "|                ON|        2460|\n",
      "|                WI|        2127|\n",
      "|                QB|        1998|\n",
      "|                IA|        1938|\n",
      "|                DC|        1929|\n",
      "|                CO|        1841|\n",
      "|                KY|        1795|\n",
      "|                DP|        1794|\n",
      "|                LA|        1689|\n",
      "|                MS|        1582|\n",
      "|                WV|        1265|\n",
      "|                AR|         994|\n",
      "|                SD|         859|\n",
      "|                NM|         792|\n",
      "|                ID|         763|\n",
      "|                NV|         725|\n",
      "|                KS|         706|\n",
      "|                NE|         704|\n",
      "|                UT|         561|\n",
      "|                MT|         505|\n",
      "|                GV|         348|\n",
      "|                NS|         322|\n",
      "|                AK|         298|\n",
      "|                ND|         254|\n",
      "|                WY|         188|\n",
      "|                HI|         156|\n",
      "|                AB|          79|\n",
      "|                PE|          61|\n",
      "|                NB|          57|\n",
      "|                BC|          54|\n",
      "|                PR|          38|\n",
      "|                MB|          17|\n",
      "|                SK|           9|\n",
      "|                FO|           8|\n",
      "+------------------+------------+\n",
      "\n"
     ]
    }
   ],
   "source": [
    "# Check the ticket counts based in registered state\n",
    "\n",
    "registered_state_wise_tickets = spark.sql(\"select Registration_State as registration_state, count(*) as ticket_count \\\n",
    "                               from parking_2017 \\\n",
    "                               group by registration_state \\\n",
    "                               order by ticket_count desc\")\n",
    "\n",
    "registered_state_wise_tickets.show(70)"
   ]
  },
  {
   "cell_type": "code",
   "execution_count": 25,
   "metadata": {},
   "outputs": [
    {
     "name": "stdout",
     "output_type": "stream",
     "text": [
      "+-----+\n",
      "|count|\n",
      "+-----+\n",
      "|   65|\n",
      "+-----+\n",
      "\n"
     ]
    }
   ],
   "source": [
    "# Count of distinct Registration states\n",
    "\n",
    "spark.sql(\"select count(distinct Registration_State) as count from parking_2017\").show()"
   ]
  },
  {
   "cell_type": "code",
   "execution_count": 26,
   "metadata": {},
   "outputs": [],
   "source": [
    "# Replace the state named 99 with NY, as NY has the maximum violations.\n",
    "\n",
    "from pyspark.sql.functions import when,lit\n",
    "\n",
    "parking2017 = parking2017.withColumn('Registration_State', \\\n",
    "                                     when(parking2017[\"Registration_State\"] == \"99\", lit('NY'))\\\n",
    "                                     .otherwise(parking2017[\"Registration_State\"]))"
   ]
  },
  {
   "cell_type": "code",
   "execution_count": 27,
   "metadata": {},
   "outputs": [],
   "source": [
    "# update the temp table with the current data\n",
    "\n",
    "parking2017.createOrReplaceTempView(\"parking_2017\")"
   ]
  },
  {
   "cell_type": "code",
   "execution_count": 28,
   "metadata": {},
   "outputs": [
    {
     "name": "stdout",
     "output_type": "stream",
     "text": [
      "+------------------+------------+\n",
      "|registration_state|ticket_count|\n",
      "+------------------+------------+\n",
      "|                NY|     4284745|\n",
      "|                NJ|      475825|\n",
      "|                PA|      140286|\n",
      "|                CT|       70403|\n",
      "|                FL|       69468|\n",
      "|                IN|       45525|\n",
      "|                MA|       38941|\n",
      "|                VA|       34367|\n",
      "|                MD|       30213|\n",
      "|                NC|       27152|\n",
      "|                TX|       18827|\n",
      "|                IL|       18666|\n",
      "|                GA|       17537|\n",
      "|                AZ|       12379|\n",
      "|                OH|       12281|\n",
      "|                CA|       12153|\n",
      "|                ME|       10806|\n",
      "|                SC|       10395|\n",
      "|                MN|       10083|\n",
      "|                OK|        9088|\n",
      "|                TN|        8514|\n",
      "|                DE|        7905|\n",
      "|                MI|        7231|\n",
      "|                RI|        5814|\n",
      "|                NH|        4119|\n",
      "|                VT|        3683|\n",
      "|                AL|        3178|\n",
      "|                WA|        3052|\n",
      "|                OR|        2622|\n",
      "|                MO|        2483|\n",
      "|                ON|        2460|\n",
      "|                WI|        2127|\n",
      "|                QB|        1998|\n",
      "|                IA|        1938|\n",
      "|                DC|        1929|\n",
      "|                CO|        1841|\n",
      "|                KY|        1795|\n",
      "|                DP|        1794|\n",
      "|                LA|        1689|\n",
      "|                MS|        1582|\n",
      "|                WV|        1265|\n",
      "|                AR|         994|\n",
      "|                SD|         859|\n",
      "|                NM|         792|\n",
      "|                ID|         763|\n",
      "|                NV|         725|\n",
      "|                KS|         706|\n",
      "|                NE|         704|\n",
      "|                UT|         561|\n",
      "|                MT|         505|\n",
      "|                GV|         348|\n",
      "|                NS|         322|\n",
      "|                AK|         298|\n",
      "|                ND|         254|\n",
      "|                WY|         188|\n",
      "|                HI|         156|\n",
      "|                AB|          79|\n",
      "|                PE|          61|\n",
      "|                NB|          57|\n",
      "|                BC|          54|\n",
      "|                PR|          38|\n",
      "|                MB|          17|\n",
      "|                SK|           9|\n",
      "|                FO|           8|\n",
      "+------------------+------------+\n",
      "\n"
     ]
    }
   ],
   "source": [
    "# Check the ticket counts based on registered state again and see if 10794 rows associated to state 99 has been now added to\n",
    "# NY (4273951 + 10794 = 4284745)\n",
    "\n",
    "registered_state_wise_tickets = spark.sql(\"select Registration_State as registration_state, count(*) as ticket_count \\\n",
    "                               from parking_2017 \\\n",
    "                               group by registration_state \\\n",
    "                               order by ticket_count desc\")\n",
    "\n",
    "registered_state_wise_tickets.show(70)"
   ]
  },
  {
   "cell_type": "markdown",
   "metadata": {},
   "source": [
    "The above results show that the state by name 99 does not exist anymore and the ticket count for Newyork has increased from \n",
    "4273951 to 4284745. An increase of 10794, which was the ticket count value for the state 99."
   ]
  },
  {
   "cell_type": "code",
   "execution_count": 29,
   "metadata": {},
   "outputs": [
    {
     "name": "stdout",
     "output_type": "stream",
     "text": [
      "+-----+\n",
      "|count|\n",
      "+-----+\n",
      "|   64|\n",
      "+-----+\n",
      "\n"
     ]
    }
   ],
   "source": [
    "# Count of distinct Registration states\n",
    "\n",
    "spark.sql(\"select count(distinct Registration_State) as count from parking_2017\").show()"
   ]
  },
  {
   "cell_type": "markdown",
   "metadata": {},
   "source": [
    "The number of Registration States has also reduced from 65 to 64"
   ]
  },
  {
   "cell_type": "markdown",
   "metadata": {},
   "source": [
    "### Step 4 : Basic Data Analysis"
   ]
  },
  {
   "cell_type": "markdown",
   "metadata": {},
   "source": [
    "#### 4.1. Check Month Wise Tickets for 2017"
   ]
  },
  {
   "cell_type": "code",
   "execution_count": 30,
   "metadata": {},
   "outputs": [
    {
     "name": "stdout",
     "output_type": "stream",
     "text": [
      "+-----+------------+\n",
      "|month|ticket_count|\n",
      "+-----+------------+\n",
      "|    5|     1019089|\n",
      "|    3|      963876|\n",
      "|    4|      887526|\n",
      "|    1|      876500|\n",
      "|    6|      851729|\n",
      "|    2|      825928|\n",
      "|    7|         369|\n",
      "|    9|         366|\n",
      "|   12|         358|\n",
      "|   11|         335|\n",
      "|    8|         307|\n",
      "|   10|         274|\n",
      "+-----+------------+\n",
      "\n"
     ]
    }
   ],
   "source": [
    "# Let us check which month in the year 2017 has maximum summons\n",
    "\n",
    "month_wise_tickets = spark.sql(\"select month(Issue_Date) as month, count(*) as ticket_count \\\n",
    "                               from parking_2017 \\\n",
    "                               group by month(Issue_Date) \\\n",
    "                               order by ticket_count desc\")\n",
    "\n",
    "month_wise_tickets.show()"
   ]
  },
  {
   "cell_type": "code",
   "execution_count": 31,
   "metadata": {},
   "outputs": [
    {
     "data": {
      "text/plain": [
       "<Figure size 432x288 with 0 Axes>"
      ]
     },
     "metadata": {},
     "output_type": "display_data"
    },
    {
     "data": {
      "image/png": "[encoded data removed]",
      "text/plain": [
       "<Figure size 432x288 with 1 Axes>"
      ]
     },
     "metadata": {},
     "output_type": "display_data"
    }
   ],
   "source": [
    "# create a dataframe with the month wise tickets data\n",
    "\n",
    "month_wise_tickets_df = month_wise_tickets.toPandas()\n",
    "\n",
    "# plot a graph\n",
    "plt.clf()\n",
    "month_wise_tickets_df.plot(x= 'month', y='ticket_count', kind='bar', color='green')\n",
    "plt.title('Month wise tickets count for 2017', fontsize = 14)\n",
    "plt.xlabel(\"Month\", fontsize = 12)\n",
    "plt.ylabel(\"Ticket Count\", fontsize = 12)\n",
    "plt.legend('')\n",
    "plt.show()"
   ]
  },
  {
   "cell_type": "markdown",
   "metadata": {},
   "source": [
    "From the above diagram , it can be deduced that May 2017 had the highest parking tickets issued followe by March and April."
   ]
  },
  {
   "cell_type": "markdown",
   "metadata": {},
   "source": [
    "#### 4.2. Top 5 states that have maximum violations"
   ]
  },
  {
   "cell_type": "code",
   "execution_count": 32,
   "metadata": {},
   "outputs": [
    {
     "data": {
      "text/plain": [
       "<Figure size 432x288 with 0 Axes>"
      ]
     },
     "metadata": {},
     "output_type": "display_data"
    },
    {
     "data": {
      "image/png": "[encoded data removed]",
      "text/plain": [
       "<Figure size 432x288 with 1 Axes>"
      ]
     },
     "metadata": {},
     "output_type": "display_data"
    }
   ],
   "source": [
    "# create a dataframe with the ragistered state wise tickets\n",
    "\n",
    "registered_state_wise_tickets_df = registered_state_wise_tickets.toPandas()\n",
    "\n",
    "# plot a graph\n",
    "plt.clf()\n",
    "registered_state_wise_tickets_df.head(5).plot(x='registration_state', y='ticket_count', kind='bar', color ='coral')\n",
    "plt.title('Top 5 States with Maximum Parking Violations for 2017', fontsize = 14)\n",
    "plt.xlabel(\"State\", fontsize = 12)\n",
    "plt.ylabel(\"Ticket Count\", fontsize = 12)\n",
    "plt.legend('')\n",
    "plt.show()"
   ]
  },
  {
   "cell_type": "markdown",
   "metadata": {},
   "source": [
    "From the above diagram , it can be deduced that New York has the highest parking violations followed by New Jersey and Pennsylvania"
   ]
  },
  {
   "cell_type": "markdown",
   "metadata": {},
   "source": [
    "#### 4.3. Top 5 Plate_Ids that have maximum violations"
   ]
  },
  {
   "cell_type": "code",
   "execution_count": 33,
   "metadata": {},
   "outputs": [
    {
     "name": "stdout",
     "output_type": "stream",
     "text": [
      "+--------+------------+\n",
      "|plate_id|ticket_count|\n",
      "+--------+------------+\n",
      "| 96089MA|         529|\n",
      "| 96087MA|         528|\n",
      "| 94905JA|         527|\n",
      "| 14828MJ|         526|\n",
      "| 85848MD|         512|\n",
      "+--------+------------+\n",
      "\n"
     ]
    }
   ],
   "source": [
    "# Top 5 Plate Ids with maximum violations\n",
    "\n",
    "top_5_plate_ids = spark.sql(\"select Plate_ID as plate_id, count(*) as ticket_count \\\n",
    "                             from parking_2017 \\\n",
    "                             group by plate_id \\\n",
    "                             order by ticket_count desc \\\n",
    "                             limit 5\")\n",
    "top_5_plate_ids.show()"
   ]
  },
  {
   "cell_type": "code",
   "execution_count": 34,
   "metadata": {},
   "outputs": [
    {
     "data": {
      "text/plain": [
       "<Figure size 432x288 with 0 Axes>"
      ]
     },
     "metadata": {},
     "output_type": "display_data"
    },
    {
     "data": {
      "image/png": "[encoded data removed]",
      "text/plain": [
       "<Figure size 432x288 with 1 Axes>"
      ]
     },
     "metadata": {},
     "output_type": "display_data"
    }
   ],
   "source": [
    "# create a dataframe with the month wise tickets data\n",
    "\n",
    "top_5_plate_ids_df = top_5_plate_ids.toPandas()\n",
    "\n",
    "# plot a graph\n",
    "plt.clf()\n",
    "top_5_plate_ids_df.plot(x='plate_id', y='ticket_count', kind='bar', color='brown')\n",
    "plt.title(\"Top 5 License Plate Id with Maximum Parking Violations for 2017\", fontsize = 14)\n",
    "plt.xlabel(\"Licence Plate Id\", fontsize = 12)\n",
    "plt.ylabel(\"Ticket Count\", fontsize = 12)\n",
    "plt.legend('')\n",
    "plt.show()"
   ]
  },
  {
   "cell_type": "markdown",
   "metadata": {},
   "source": [
    "Per the above diagram, the plate id 96089MA has the maximum parking violations"
   ]
  },
  {
   "cell_type": "markdown",
   "metadata": {},
   "source": [
    "### Step 5 : Examine the data"
   ]
  },
  {
   "cell_type": "markdown",
   "metadata": {},
   "source": [
    "#### 5.1. Find the total number of tickets for the year."
   ]
  },
  {
   "cell_type": "code",
   "execution_count": 35,
   "metadata": {},
   "outputs": [
    {
     "name": "stdout",
     "output_type": "stream",
     "text": [
      "+-----------------------+\n",
      "|total_number_of_tickets|\n",
      "+-----------------------+\n",
      "|                5426657|\n",
      "+-----------------------+\n",
      "\n"
     ]
    }
   ],
   "source": [
    "# Total number of tickets for the year 2017\n",
    "\n",
    "from pyspark.sql.functions import countDistinct\n",
    "parking2017.select(countDistinct(\"Summons_Number\").alias(\"total_number_of_tickets\")).show()"
   ]
  },
  {
   "cell_type": "markdown",
   "metadata": {},
   "source": [
    "#### 5.2. Find out the number of unique states from where the cars that got parking tickets came. (Hint: Use the column 'Registration State'.)\n",
    "There is a numeric entry '99' in the column, which should be corrected. Replace it with the state having the maximum entries. Provide the number of unique states again."
   ]
  },
  {
   "cell_type": "code",
   "execution_count": 36,
   "metadata": {},
   "outputs": [
    {
     "name": "stdout",
     "output_type": "stream",
     "text": [
      "+-----------------------+\n",
      "|number_of_unique_states|\n",
      "+-----------------------+\n",
      "|                     64|\n",
      "+-----------------------+\n",
      "\n"
     ]
    }
   ],
   "source": [
    "# Note : We have already replaced the Registration state 99 with the state having the maximum entries (NY) in the Data \n",
    "# Cleaning section (3.3) above\n",
    "\n",
    "from pyspark.sql.functions import countDistinct\n",
    "parking2017.select(countDistinct(\"registration_State\").alias(\"number_of_unique_states\")).show()"
   ]
  },
  {
   "cell_type": "markdown",
   "metadata": {},
   "source": [
    "### Step 6 : Aggregation Tasks"
   ]
  },
  {
   "cell_type": "markdown",
   "metadata": {},
   "source": [
    "#### 6.1. How often does each violation code occur? Display the frequency of the top five violation codes."
   ]
  },
  {
   "cell_type": "code",
   "execution_count": 37,
   "metadata": {},
   "outputs": [
    {
     "name": "stdout",
     "output_type": "stream",
     "text": [
      "+--------------+----------------+\n",
      "|violation_code|ticket_frequency|\n",
      "+--------------+----------------+\n",
      "|            21|          767740|\n",
      "|            36|          662765|\n",
      "|            38|          541526|\n",
      "|            14|          476405|\n",
      "|            20|          319439|\n",
      "+--------------+----------------+\n",
      "\n"
     ]
    }
   ],
   "source": [
    "# How often does each violation code occur? Display the frequency of the top five violation codes\n",
    "\n",
    "violation_code_frequency = spark.sql(\"select Violation_Code as violation_code, count(*) as ticket_frequency \\\n",
    "                                      from parking_2017 \\\n",
    "                                      group by violation_code \\\n",
    "                                      order by ticket_frequency desc \\\n",
    "                                      limit 5\")\n",
    "violation_code_frequency.show()"
   ]
  },
  {
   "cell_type": "code",
   "execution_count": 38,
   "metadata": {},
   "outputs": [
    {
     "data": {
      "text/plain": [
       "<Figure size 432x288 with 0 Axes>"
      ]
     },
     "metadata": {},
     "output_type": "display_data"
    },
    {
     "data": {
      "image/png": "[encoded data removed]",
      "text/plain": [
       "<Figure size 432x288 with 1 Axes>"
      ]
     },
     "metadata": {},
     "output_type": "display_data"
    }
   ],
   "source": [
    "# create a dataframe with the violation_code_frequency\n",
    "\n",
    "violation_code_frequency_df = violation_code_frequency.toPandas()\n",
    "\n",
    "# plot a graph\n",
    "plt.clf()\n",
    "violation_code_frequency_df.plot(x='violation_code', y='ticket_frequency', kind='bar')\n",
    "plt.title('Frequency Of Top 5 Violation Code For 2017', fontsize = 14)\n",
    "plt.xlabel(\"Violation Code\", fontsize = 12)\n",
    "plt.ylabel(\"Ticket Frequency\", fontsize = 12)\n",
    "plt.legend('')\n",
    "plt.show()"
   ]
  },
  {
   "cell_type": "markdown",
   "metadata": {},
   "source": [
    "Per the above result, it can be concluded that the top 3 violation codes are 21, 36 and 38"
   ]
  },
  {
   "cell_type": "markdown",
   "metadata": {},
   "source": [
    "#### 6.2. How often does each 'vehicle body type' get a parking ticket? How about the 'vehicle make'? (Hint: Find the top 5 for both.)"
   ]
  },
  {
   "cell_type": "code",
   "execution_count": 39,
   "metadata": {},
   "outputs": [
    {
     "name": "stdout",
     "output_type": "stream",
     "text": [
      "+-----------------+----------------+\n",
      "|vehicle_body_type|ticket_frequency|\n",
      "+-----------------+----------------+\n",
      "|             SUBN|         1882978|\n",
      "|             4DSD|         1547063|\n",
      "|              VAN|          723796|\n",
      "|             DELV|          358924|\n",
      "|              SDN|          192927|\n",
      "+-----------------+----------------+\n",
      "\n"
     ]
    }
   ],
   "source": [
    "# Display the frequency of the top five Vehicle Body Type getting a parking ticket\n",
    "\n",
    "vehicle_body_type_frequency = spark.sql(\"select Vehicle_Body_Type as vehicle_body_type, count(*) as ticket_frequency \\\n",
    "                                      from parking_2017 \\\n",
    "                                      group by vehicle_body_type \\\n",
    "                                      order by ticket_frequency desc \\\n",
    "                                      limit 5\")\n",
    "\n",
    "vehicle_body_type_frequency.show()"
   ]
  },
  {
   "cell_type": "code",
   "execution_count": 40,
   "metadata": {},
   "outputs": [
    {
     "data": {
      "text/plain": [
       "<Figure size 432x288 with 0 Axes>"
      ]
     },
     "metadata": {},
     "output_type": "display_data"
    },
    {
     "data": {
      "image/png": "[encoded data removed]",
      "text/plain": [
       "<Figure size 432x288 with 1 Axes>"
      ]
     },
     "metadata": {},
     "output_type": "display_data"
    }
   ],
   "source": [
    "# create a dataframe with the vehicle_body_type_frequency\n",
    "\n",
    "vehicle_body_type_frequency_df = vehicle_body_type_frequency.toPandas()\n",
    "\n",
    "# plot a graph\n",
    "plt.clf()\n",
    "vehicle_body_type_frequency_df.head(5).plot(x='vehicle_body_type', y='ticket_frequency', kind='bar')\n",
    "plt.title('Frequency Of Top 5 Parking Violations Based On Vehicle Body Type For 2017', fontsize = 14)\n",
    "plt.xlabel(\"Vehicle Body Type\", fontsize = 12)\n",
    "plt.ylabel(\"Ticket Frequency\", fontsize = 12)\n",
    "plt.legend('')\n",
    "plt.show()"
   ]
  },
  {
   "cell_type": "code",
   "execution_count": 41,
   "metadata": {},
   "outputs": [
    {
     "name": "stdout",
     "output_type": "stream",
     "text": [
      "+------------+----------------+\n",
      "|vehicle_make|ticket_frequency|\n",
      "+------------+----------------+\n",
      "|        FORD|          636527|\n",
      "|       TOYOT|          605011|\n",
      "|       HONDA|          538460|\n",
      "|       NISSA|          461725|\n",
      "|       CHEVR|          355868|\n",
      "+------------+----------------+\n",
      "\n"
     ]
    }
   ],
   "source": [
    "# Display the frequency of the top five Vehicle Make getting a parking ticket\n",
    "\n",
    "vehicle_make_ticket_frequency = spark.sql(\"select Vehicle_Make as vehicle_make, count(*) as ticket_frequency \\\n",
    "                                          from parking_2017 \\\n",
    "                                          group by vehicle_make \\\n",
    "                                          order by ticket_frequency desc \\\n",
    "                                          limit 5\")\n",
    "vehicle_make_ticket_frequency.show()"
   ]
  },
  {
   "cell_type": "code",
   "execution_count": 42,
   "metadata": {},
   "outputs": [
    {
     "data": {
      "text/plain": [
       "<Figure size 432x288 with 0 Axes>"
      ]
     },
     "metadata": {},
     "output_type": "display_data"
    },
    {
     "data": {
      "image/png": "[encoded data removed]",
      "text/plain": [
       "<Figure size 432x288 with 1 Axes>"
      ]
     },
     "metadata": {},
     "output_type": "display_data"
    }
   ],
   "source": [
    "# create a dataframe with the vehicle_make_ticket_frequency\n",
    "vehicle_make_ticket_frequency_df = vehicle_make_ticket_frequency.toPandas()\n",
    "\n",
    "# plot a graph\n",
    "plt.clf()\n",
    "vehicle_make_ticket_frequency_df.plot(x='vehicle_make', y='ticket_frequency', kind='bar')\n",
    "plt.title('Frequency Of Top 5 Parking Violations Based On Vehicle Make For 2017', fontsize = 14)\n",
    "plt.xlabel(\"Vehicle Make\", fontsize = 12)\n",
    "plt.ylabel(\"Ticket Frequency\", fontsize = 12)\n",
    "plt.legend('')\n",
    "plt.show()"
   ]
  },
  {
   "cell_type": "markdown",
   "metadata": {},
   "source": [
    "Per the results from above, it can be inferred that \n",
    "    - For Vehical Body Type, maximum parking violations happen for Suburban(SUBN) followed by four door sedan(4DSD) and Van\n",
    "    - For Vehicle Make, maximum parking violations happen for Ford follwed by Toyota and Honda"
   ]
  },
  {
   "cell_type": "markdown",
   "metadata": {},
   "source": [
    "#### 6.3. A precinct is a police station that has a certain zone of the city under its command. Find the (5 highest) frequencies of tickets for each of the following :\n",
    "   - <b>'Violation Precinct' (This is the precinct of the zone where the violation occurred). Using this, can you draw any insights for parking violations in any specific areas of the city? \n",
    "   - 'Issuer Precinct' (This is the precinct that issued the ticket.)</b>\n",
    "   \n",
    "Here, you would have noticed that the dataframe has the'Violating Precinct' or 'Issuing Precinct' as '0'. These are erroneous entries. Hence, you need to provide the records for five correct precincts. \n",
    "(Hint: Print the top six entries after sorting.)"
   ]
  },
  {
   "cell_type": "code",
   "execution_count": 43,
   "metadata": {},
   "outputs": [
    {
     "name": "stdout",
     "output_type": "stream",
     "text": [
      "+------------------+----------------+\n",
      "|violation_precinct|ticket_frequency|\n",
      "+------------------+----------------+\n",
      "|                 0|          925395|\n",
      "|                19|          274264|\n",
      "|                14|          203375|\n",
      "|                 1|          174620|\n",
      "|                18|          169043|\n",
      "|               114|          147223|\n",
      "+------------------+----------------+\n",
      "only showing top 6 rows\n",
      "\n"
     ]
    }
   ],
   "source": [
    "# Display the frequency of the top five violation precinct\n",
    "\n",
    "violation_precinct_ticket_frequency = spark.sql(\"select Violation_Precinct as violation_precinct, count(*) as ticket_frequency \\\n",
    "                                                from parking_2017 \\\n",
    "                                                group by violation_precinct \\\n",
    "                                                order by ticket_frequency desc\")\n",
    "violation_precinct_ticket_frequency.show(6)"
   ]
  },
  {
   "cell_type": "code",
   "execution_count": 44,
   "metadata": {},
   "outputs": [
    {
     "data": {
      "text/plain": [
       "<Figure size 432x288 with 0 Axes>"
      ]
     },
     "metadata": {},
     "output_type": "display_data"
    },
    {
     "data": {
      "image/png": "[encoded data removed]",
      "text/plain": [
       "<Figure size 432x288 with 1 Axes>"
      ]
     },
     "metadata": {},
     "output_type": "display_data"
    }
   ],
   "source": [
    "# create a dataframe with the violation_precinct_ticket_frequency\n",
    "\n",
    "violation_precinct_ticket_frequency_df = violation_precinct_ticket_frequency.toPandas()\n",
    "\n",
    "# plot a graph\n",
    "plt.clf()\n",
    "violation_precinct_ticket_frequency_df[violation_precinct_ticket_frequency_df.violation_precinct != 0].head(5)\\\n",
    "                                        .plot(x='violation_precinct', y='ticket_frequency', kind='bar', color='olive')\n",
    "\n",
    "plt.title('Frequency Of Top 5 Violation Precinct For 2017', fontsize = 14)\n",
    "plt.xlabel(\"Violation Precinct\", fontsize = 12)\n",
    "plt.ylabel(\"Ticket Frequency\", fontsize = 12)\n",
    "plt.legend('')\n",
    "plt.show()"
   ]
  },
  {
   "cell_type": "code",
   "execution_count": 45,
   "metadata": {},
   "outputs": [
    {
     "name": "stdout",
     "output_type": "stream",
     "text": [
      "+---------------+----------------+\n",
      "|issuer_precinct|ticket_frequency|\n",
      "+---------------+----------------+\n",
      "|              0|         1077884|\n",
      "|             19|          266790|\n",
      "|             14|          200328|\n",
      "|              1|          168630|\n",
      "|             18|          162908|\n",
      "|            114|          143900|\n",
      "+---------------+----------------+\n",
      "only showing top 6 rows\n",
      "\n"
     ]
    }
   ],
   "source": [
    "# Display the frequency of the top six issuer precinct\n",
    "\n",
    "issuer_precinct_ticket_frequency = spark.sql(\"select Issuer_Precinct as issuer_precinct, count(*) as ticket_frequency \\\n",
    "                                                from parking_2017 \\\n",
    "                                                group by issuer_precinct \\\n",
    "                                                order by ticket_frequency desc\")\n",
    "\n",
    "issuer_precinct_ticket_frequency.show(6)"
   ]
  },
  {
   "cell_type": "code",
   "execution_count": 46,
   "metadata": {},
   "outputs": [
    {
     "data": {
      "text/plain": [
       "<Figure size 432x288 with 0 Axes>"
      ]
     },
     "metadata": {},
     "output_type": "display_data"
    },
    {
     "data": {
      "image/png": "[encoded data removed]",
      "text/plain": [
       "<Figure size 432x288 with 1 Axes>"
      ]
     },
     "metadata": {},
     "output_type": "display_data"
    }
   ],
   "source": [
    "# create a dataframe with the issuer_precinct_ticket_frequency\n",
    "\n",
    "issuer_precinct_ticket_frequency_df = issuer_precinct_ticket_frequency.toPandas()\n",
    "\n",
    "# plot a graph\n",
    "plt.clf()\n",
    "issuer_precinct_ticket_frequency_df[issuer_precinct_ticket_frequency_df.issuer_precinct != 0].head(5)\\\n",
    "                                        .plot(x='issuer_precinct', y='ticket_frequency', kind='bar', color='olive')\n",
    "\n",
    "plt.title('Frequency Of Top 5 Issuer Precinct For 2017', fontsize = 14)\n",
    "plt.xlabel(\"Issuer Precinct\", fontsize = 12)\n",
    "plt.ylabel(\"Ticket Frequency\", fontsize = 12)\n",
    "plt.legend('')\n",
    "plt.show()"
   ]
  },
  {
   "cell_type": "markdown",
   "metadata": {},
   "source": [
    "Per the results from above, it can be inferred that \n",
    "    - The top 3 violation precincts and Issuer Precincts where maximum parking violations happen are 19, 14 and 1    "
   ]
  },
  {
   "cell_type": "markdown",
   "metadata": {},
   "source": [
    "#### 6.4. Find the violation code frequencies for three precincts that have issued the most number of tickets. Do these precinct zones have an exceptionally high frequency of certain violation codes? Are these codes common across precincts? \n",
    "    -(Hint: In the SQL view, use the 'where' attribute to filter among three precincts.)"
   ]
  },
  {
   "cell_type": "markdown",
   "metadata": {},
   "source": [
    "Solution : From the results of the question above, it is clear that the three precincts that have issued the most number of \n",
    "           tickets are 19, 14 and 1.Hence the violation code frequency for the three precincts are as given below :"
   ]
  },
  {
   "cell_type": "code",
   "execution_count": 47,
   "metadata": {},
   "outputs": [
    {
     "name": "stdout",
     "output_type": "stream",
     "text": [
      "+--------------+----------------+\n",
      "|violation_code|ticket_frequency|\n",
      "+--------------+----------------+\n",
      "|            46|           48422|\n",
      "|            38|           36332|\n",
      "|            37|           36046|\n",
      "|            14|           29791|\n",
      "|            21|           28409|\n",
      "+--------------+----------------+\n",
      "\n"
     ]
    }
   ],
   "source": [
    "# Violation code Frquency for Issuer Precinct 19 \n",
    "\n",
    "violation_code_frequency_precinct19 = spark.sql(\"select Violation_Code as violation_code, count(*) as ticket_frequency \\\n",
    "                                                from parking_2017 \\\n",
    "                                                where Issuer_Precinct = 19 \\\n",
    "                                                group by violation_code \\\n",
    "                                                order by ticket_frequency desc \\\n",
    "                                                limit 5 \")\n",
    "\n",
    "violation_code_frequency_precinct19.show()"
   ]
  },
  {
   "cell_type": "code",
   "execution_count": 48,
   "metadata": {},
   "outputs": [
    {
     "name": "stdout",
     "output_type": "stream",
     "text": [
      "+--------------+----------------+\n",
      "|violation_code|ticket_frequency|\n",
      "+--------------+----------------+\n",
      "|            14|           45019|\n",
      "|            69|           30453|\n",
      "|            31|           22528|\n",
      "|            47|           18357|\n",
      "|            42|           10022|\n",
      "+--------------+----------------+\n",
      "\n"
     ]
    }
   ],
   "source": [
    "# Violation code Frquency for Issuer Precinct 14\n",
    "\n",
    "violation_code_frequency_precinct14 = spark.sql(\"select Violation_Code as violation_code, count(*) as ticket_frequency \\\n",
    "                                                from parking_2017 \\\n",
    "                                                where Issuer_Precinct = 14 \\\n",
    "                                                group by violation_code \\\n",
    "                                                order by ticket_frequency desc \\\n",
    "                                                limit 5 \")\n",
    "\n",
    "violation_code_frequency_precinct14.show()"
   ]
  },
  {
   "cell_type": "code",
   "execution_count": 49,
   "metadata": {},
   "outputs": [
    {
     "name": "stdout",
     "output_type": "stream",
     "text": [
      "+--------------+----------------+\n",
      "|violation_code|ticket_frequency|\n",
      "+--------------+----------------+\n",
      "|            14|           38345|\n",
      "|            16|           19080|\n",
      "|            20|           15395|\n",
      "|            46|           12743|\n",
      "|            38|            8525|\n",
      "+--------------+----------------+\n",
      "\n"
     ]
    }
   ],
   "source": [
    "# Violation code Frquency for Issuer Precinct 1\n",
    "\n",
    "violation_code_frequency_precinct1 = spark.sql(\"select Violation_Code as violation_code, count(*) as ticket_frequency \\\n",
    "                                                from parking_2017 \\\n",
    "                                                where Issuer_Precinct = 1 \\\n",
    "                                                group by violation_code \\\n",
    "                                                order by ticket_frequency desc \\\n",
    "                                                limit 5 \")\n",
    "\n",
    "violation_code_frequency_precinct1.show()"
   ]
  },
  {
   "cell_type": "code",
   "execution_count": 50,
   "metadata": {},
   "outputs": [
    {
     "name": "stdout",
     "output_type": "stream",
     "text": [
      "+--------------+----------------+\n",
      "|violation_code|ticket_frequency|\n",
      "+--------------+----------------+\n",
      "|            14|          113155|\n",
      "|            46|           68840|\n",
      "|            38|           48089|\n",
      "|            37|           43772|\n",
      "|            69|           39031|\n",
      "+--------------+----------------+\n",
      "\n"
     ]
    }
   ],
   "source": [
    "# Common violation Codes across issuer precincts 19, 14 and 1\n",
    "\n",
    "common_precincts_violation_codes = spark.sql(\"select Violation_Code as violation_code , count(*) as ticket_frequency \\\n",
    "                                              from parking_2017 \\\n",
    "                                              where Issuer_Precinct in (19, 14, 1) \\\n",
    "                                              group by violation_code \\\n",
    "                                              order by ticket_frequency desc \\\n",
    "                                              limit 5 \")\n",
    "\n",
    "common_precincts_violation_codes.show()"
   ]
  },
  {
   "cell_type": "code",
   "execution_count": 51,
   "metadata": {},
   "outputs": [
    {
     "data": {
      "text/plain": [
       "<Figure size 432x288 with 0 Axes>"
      ]
     },
     "metadata": {},
     "output_type": "display_data"
    },
    {
     "data": {
      "image/png": "[encoded data removed]",
      "text/plain": [
       "<Figure size 432x288 with 1 Axes>"
      ]
     },
     "metadata": {},
     "output_type": "display_data"
    }
   ],
   "source": [
    "# create a dataframe with the common_precincts_violation_codes\n",
    "\n",
    "common_precincts_violation_codes_df = common_precincts_violation_codes.toPandas()\n",
    "\n",
    "# plot a graph\n",
    "plt.clf()\n",
    "common_precincts_violation_codes_df.plot(x='violation_code', y='ticket_frequency', kind='bar')\n",
    "plt.title('Violation Codes Across Issuer Precincts 19, 14 and 1', fontsize = 14)\n",
    "plt.xlabel(\"Violation Codes\", fontsize = 12)\n",
    "plt.ylabel(\"Ticket Frequency\", fontsize = 12)\n",
    "plt.legend('')\n",
    "plt.show()"
   ]
  },
  {
   "cell_type": "markdown",
   "metadata": {},
   "source": [
    "- The top 3 common violation codes across top 3 precincts 19, 14 and 1 where the parking tickets were issued are 14, 46 and 38.\n",
    "- Violation code 14 has exceptionally high frequency of 1,13,155 tickets issued.\n",
    "- While the violation codes 14, 46 and 38 are common across the issuer precinct, the violation code 14 occurs in all the 3 issuer precincts (19, 14 and 1) while violation codes 46 and 38 occur in issuer precincts 19 and 1"
   ]
  },
  {
   "cell_type": "markdown",
   "metadata": {},
   "source": [
    "#### 6.5. Find out the properties of parking violations across different times of the day:\n",
    "    - Find a way to deal with missing values, if any.\n",
    "      (Hint: Check for the null values using 'isNull' under the SQL. Also, to remove the null values, check the 'dropna' \n",
    "      command in the API documentation.)\n",
    "    - The Violation Time field is specified in a strange format. Find a way to make this a time attribute that you can\n",
    "      use to divide into groups.\n",
    "    - Divide 24 hours into six equal discrete bins of time. Choose the intervals as you see fit. For each of these \n",
    "      groups, find the three most commonly occurring violations.\n",
    "      (Hint: Use the CASE-WHEN in SQL view to segregate into bins. To find the most commonly occurring violations, you \n",
    "      can use an approach similar to the one mentioned in the hint for question 4.)\n",
    "    - Now, try another direction. For the three most commonly occurring violation codes, find the most common time of \n",
    "      the day (in terms of the bins from the previous part)."
   ]
  },
  {
   "cell_type": "markdown",
   "metadata": {},
   "source": [
    "##### 6.5.1. Find a way to deal with missing values, if any"
   ]
  },
  {
   "cell_type": "code",
   "execution_count": 52,
   "metadata": {},
   "outputs": [
    {
     "name": "stdout",
     "output_type": "stream",
     "text": [
      "+--------------+--------+------------------+----------+--------------+-----------------+------------+------------------+---------------+--------------+\n",
      "|Summons_Number|Plate_ID|Registration_State|Issue_Date|Violation_Code|Vehicle_Body_Type|Vehicle_Make|Violation_Precinct|Issuer_Precinct|Violation_Time|\n",
      "+--------------+--------+------------------+----------+--------------+-----------------+------------+------------------+---------------+--------------+\n",
      "+--------------+--------+------------------+----------+--------------+-----------------+------------+------------------+---------------+--------------+\n",
      "\n"
     ]
    }
   ],
   "source": [
    "#Checking for the null value\n",
    "\n",
    "from pyspark.sql.functions import col\n",
    "parking2017.where(col(\"Violation_Time\").isNull()).show()"
   ]
  },
  {
   "cell_type": "markdown",
   "metadata": {},
   "source": [
    "- The above results specifies that there are no null or empty values in the Violation Time field.\n",
    "- Also in the Step 1. Reading and Inspecting Data section above, we have used the drop na function to drop all null values.\n",
    "  However, no null values were found"
   ]
  },
  {
   "cell_type": "markdown",
   "metadata": {},
   "source": [
    "##### 6.5.2. Divide 24 hours into six equal discrete bins of time. Choose the intervals as you see fit. For each of these groups, find the three most commonly occurring violations."
   ]
  },
  {
   "cell_type": "code",
   "execution_count": 53,
   "metadata": {},
   "outputs": [
    {
     "name": "stdout",
     "output_type": "stream",
     "text": [
      "+--------------+--------------+--------------+------------------+\n",
      "|Summons_Number|Violation_Code|Violation_Time|Violation_Time_Bin|\n",
      "+--------------+--------------+--------------+------------------+\n",
      "|    8478629828|            47|         1120A|                 3|\n",
      "|    5096917368|             7|         0852P|                 6|\n",
      "|    1407740258|            78|         0015A|                 1|\n",
      "|    1413656420|            40|         0525A|                 2|\n",
      "|    8480309064|            64|         0256P|                 4|\n",
      "|    1416638830|            20|         1232A|                 1|\n",
      "|    4630524241|            36|         1034A|                 3|\n",
      "|    8505131836|            38|         1021A|                 3|\n",
      "|    8513520615|            14|         0721A|                 2|\n",
      "|    8556155431|            75|         0940A|                 3|\n",
      "+--------------+--------------+--------------+------------------+\n",
      "only showing top 10 rows\n",
      "\n"
     ]
    }
   ],
   "source": [
    "# Dividing the 24 hours into six equal discrete bins of time.\n",
    "\n",
    "# We shall divide the 24 hours in the following bin category\n",
    "\n",
    "#     Bin 1 = 12:00 AM to 4:00 AM\n",
    "#     Bin 2 = 4:00 AM to 8:00 AM\n",
    "#     Bin 3 = 8:00 AM to 12:00 PM\n",
    "#     Bin 4 = 12:00 PM to 4:00 PM\n",
    "#     Bin 5 = 4:00 PM to 8:00 PM\n",
    "#     Bin 6 = 8:00 PM to 12:00 AM\n",
    "\n",
    "violation_time_bins_2017_df = spark.sql(\"select Summons_Number, Violation_Code, Violation_Time, \\\n",
    "                                         case \\\n",
    "                                               when substring(Violation_Time,1,2) in ('12', '00','01','02','03') \\\n",
    "                                                       and upper(substring(Violation_Time,-1))='A' \\\n",
    "                                               then 1 \\\n",
    "                                               when substring(Violation_Time,1,2) in ('04','05','06','07') \\\n",
    "                                                       and upper(substring(Violation_Time,-1))='A' \\\n",
    "                                               then 2 \\\n",
    "                                               when substring(Violation_Time,1,2) in ('08','09','10','11') \\\n",
    "                                                       and upper(substring(Violation_Time,-1))='A' \\\n",
    "                                               then 3 \\\n",
    "                                               when substring(Violation_Time,1,2) in ('12','00','01','02','03') \\\n",
    "                                                       and upper(substring(Violation_Time,-1))='P' \\\n",
    "                                               then 4 \\\n",
    "                                               when substring(Violation_Time,1,2) in ('04','05','06','07') \\\n",
    "                                                       and upper(substring(Violation_Time,-1))='P' \\\n",
    "                                               then 5 \\\n",
    "                                               when substring(Violation_Time,1,2) in ('08','09','10','11') \\\n",
    "                                                       and upper(substring(Violation_Time,-1))='P' \\\n",
    "                                               then 6 \\\n",
    "                                               else null \\\n",
    "                                        end as Violation_Time_Bin \\\n",
    "                                        from parking_2017 \\\n",
    "                                        where Violation_Time is not null\")\n",
    "\n",
    "violation_time_bins_2017_df.show(10) "
   ]
  },
  {
   "cell_type": "code",
   "execution_count": 54,
   "metadata": {},
   "outputs": [],
   "source": [
    "# Create/Replace a Temp View\n",
    "\n",
    "violation_time_bins_2017_df.createOrReplaceTempView(\"violation_time_bins_2017\")"
   ]
  },
  {
   "cell_type": "code",
   "execution_count": 55,
   "metadata": {},
   "outputs": [
    {
     "name": "stdout",
     "output_type": "stream",
     "text": [
      "+--------------+---------------+\n",
      "|violation_code|violation_count|\n",
      "+--------------+---------------+\n",
      "|            21|          36934|\n",
      "|            40|          25810|\n",
      "|            78|          15513|\n",
      "+--------------+---------------+\n",
      "\n"
     ]
    }
   ],
   "source": [
    "# Three most commonly occuring violation codes for bin 1 i.e between 12:00 AM to 4:00 AM\n",
    "\n",
    "violation_time_bin1 = spark.sql(\"select Violation_Code as violation_code, count(*) as violation_count \\\n",
    "                                 from violation_time_bins_2017 \\\n",
    "                                 where Violation_Time_Bin == 1 \\\n",
    "                                 group by violation_code \\\n",
    "                                 order by violation_count desc \\\n",
    "                                 limit 3 \")\n",
    "violation_time_bin1.show()"
   ]
  },
  {
   "cell_type": "code",
   "execution_count": 56,
   "metadata": {},
   "outputs": [
    {
     "name": "stdout",
     "output_type": "stream",
     "text": [
      "+--------------+---------------+\n",
      "|violation_code|violation_count|\n",
      "+--------------+---------------+\n",
      "|            14|          74095|\n",
      "|            40|          60609|\n",
      "|            21|          57876|\n",
      "+--------------+---------------+\n",
      "\n"
     ]
    }
   ],
   "source": [
    "# Three most commonly occuring violation codes for bin 2 i.e between 4:00 AM to 8:00 AM\n",
    "\n",
    "violation_time_bin2 = spark.sql(\"select Violation_Code as violation_code, count(*) as violation_count \\\n",
    "                                 from violation_time_bins_2017 \\\n",
    "                                 where Violation_Time_Bin == 2 \\\n",
    "                                 group by violation_code \\\n",
    "                                 order by violation_count desc \\\n",
    "                                 limit 3 \")\n",
    "violation_time_bin2.show()"
   ]
  },
  {
   "cell_type": "code",
   "execution_count": 57,
   "metadata": {},
   "outputs": [
    {
     "name": "stdout",
     "output_type": "stream",
     "text": [
      "+--------------+---------------+\n",
      "|violation_code|violation_count|\n",
      "+--------------+---------------+\n",
      "|            21|         597827|\n",
      "|            36|         348165|\n",
      "|            38|         176310|\n",
      "+--------------+---------------+\n",
      "\n"
     ]
    }
   ],
   "source": [
    "# Three most commonly occuring violation codes for bin 3 i.e between 8:00 AM to 12:00 PM\n",
    "\n",
    "violation_time_bin3 = spark.sql(\"select Violation_Code as violation_code, count(*) as violation_count \\\n",
    "                                 from violation_time_bins_2017 \\\n",
    "                                 where Violation_Time_Bin == 3 \\\n",
    "                                 group by violation_code \\\n",
    "                                 order by violation_count desc \\\n",
    "                                 limit 3 \")\n",
    "violation_time_bin3.show()"
   ]
  },
  {
   "cell_type": "code",
   "execution_count": 58,
   "metadata": {},
   "outputs": [
    {
     "name": "stdout",
     "output_type": "stream",
     "text": [
      "+--------------+---------------+\n",
      "|violation_code|violation_count|\n",
      "+--------------+---------------+\n",
      "|            36|         286284|\n",
      "|            38|         240511|\n",
      "|            37|         166969|\n",
      "+--------------+---------------+\n",
      "\n"
     ]
    }
   ],
   "source": [
    "# Three most commonly occuring violation codes for bin 4 i.e between 12:00 PM to 4:00 PM\n",
    "\n",
    "violation_time_bin4 = spark.sql(\"select Violation_Code as violation_code, count(*) as violation_count \\\n",
    "                                 from violation_time_bins_2017 \\\n",
    "                                 where Violation_Time_Bin == 4 \\\n",
    "                                 group by violation_code \\\n",
    "                                 order by violation_count desc \\\n",
    "                                 limit 3 \")\n",
    "violation_time_bin4.show()"
   ]
  },
  {
   "cell_type": "code",
   "execution_count": 59,
   "metadata": {},
   "outputs": [
    {
     "name": "stdout",
     "output_type": "stream",
     "text": [
      "+--------------+---------------+\n",
      "|violation_code|violation_count|\n",
      "+--------------+---------------+\n",
      "|            38|         102784|\n",
      "|            14|          75856|\n",
      "|            37|          70317|\n",
      "+--------------+---------------+\n",
      "\n"
     ]
    }
   ],
   "source": [
    "# Three most commonly occuring violation codes for bin 5 i.e between 4:00 PM to 8:00 PM\n",
    "\n",
    "violation_time_bin5 = spark.sql(\"select Violation_Code as violation_code, count(*) as violation_count \\\n",
    "                                 from violation_time_bins_2017 \\\n",
    "                                 where Violation_Time_Bin == 5 \\\n",
    "                                 group by violation_code \\\n",
    "                                 order by violation_count desc \\\n",
    "                                 limit 3 \")\n",
    "violation_time_bin5.show()"
   ]
  },
  {
   "cell_type": "code",
   "execution_count": 60,
   "metadata": {},
   "outputs": [
    {
     "name": "stdout",
     "output_type": "stream",
     "text": [
      "+--------------+---------------+\n",
      "|violation_code|violation_count|\n",
      "+--------------+---------------+\n",
      "|             7|          26293|\n",
      "|            40|          22301|\n",
      "|            14|          21026|\n",
      "+--------------+---------------+\n",
      "\n"
     ]
    }
   ],
   "source": [
    "# Three most commonly occuring violation codes for bin 6 i.e between 8:00 PM to 12:00 AM\n",
    "\n",
    "violation_time_bin6 = spark.sql(\"select Violation_Code as violation_code, count(*) as violation_count \\\n",
    "                                 from violation_time_bins_2017 \\\n",
    "                                 where Violation_Time_Bin == 6 \\\n",
    "                                 group by violation_code \\\n",
    "                                 order by violation_count desc \\\n",
    "                                 limit 3 \")\n",
    "violation_time_bin6.show()"
   ]
  },
  {
   "cell_type": "code",
   "execution_count": 61,
   "metadata": {},
   "outputs": [
    {
     "name": "stdout",
     "output_type": "stream",
     "text": [
      "+--------------+---------------+\n",
      "|violation_code|violation_count|\n",
      "+--------------+---------------+\n",
      "|            21|         767740|\n",
      "|            36|         662765|\n",
      "|            38|         541526|\n",
      "+--------------+---------------+\n",
      "\n"
     ]
    }
   ],
   "source": [
    "# Now, Let us find the 3 most commonly occuring violation codes amongst all the 6 bins.\n",
    "\n",
    "common_violation_codes_across_bins = spark.sql(\"select Violation_Code as violation_code , count(*) as violation_count \\\n",
    "                                                from violation_time_bins_2017 \\\n",
    "                                                where violation_code in (21, 40, 78, 14, 40, 36, 38, 37, 7) \\\n",
    "                                                and Violation_Time != ''\\\n",
    "                                                group by violation_code \\\n",
    "                                                order by violation_count desc \\\n",
    "                                                limit 3 \")\n",
    "\n",
    "common_violation_codes_across_bins.show()"
   ]
  },
  {
   "cell_type": "markdown",
   "metadata": {},
   "source": [
    "From the above results, it can be inferred that \n",
    "    - The violation codes that are common across atleast 3 time bins are 21, 38, 14 and 40\n",
    "    - The violation codes that are common across atleast 2 time bins are 36 and 37\n",
    "    - The violation codes that are associated only to 1 time bins are 78 and 7\n",
    "\n",
    "However, based on the ticket fequency count, the 3 most commonly occuring violation code among all the 6 bins are 21, 36 and 38. Hence we would consider the violation codes 21, 36 and 38 as the most commonly occuring violation codes for our further analysis."
   ]
  },
  {
   "cell_type": "markdown",
   "metadata": {},
   "source": [
    "##### 6.5.3. Now, try another direction. For the three most commonly occurring violation codes, find the most common time of the day (in terms of the bins from the previous part)."
   ]
  },
  {
   "cell_type": "code",
   "execution_count": 62,
   "metadata": {},
   "outputs": [
    {
     "name": "stdout",
     "output_type": "stream",
     "text": [
      "+------------------+---------------+\n",
      "|violation_time_bin|violation_count|\n",
      "+------------------+---------------+\n",
      "|                 3|        1122302|\n",
      "|                 4|         601432|\n",
      "|                 5|         116574|\n",
      "|                 2|          73927|\n",
      "|                 1|          37246|\n",
      "|                 6|          20523|\n",
      "+------------------+---------------+\n",
      "only showing top 6 rows\n",
      "\n"
     ]
    }
   ],
   "source": [
    "# For the three most commonly occurring violation codes, find the most common time of the day (in terms of the bins from the \n",
    "# previous part\n",
    "\n",
    "common_time_for_violation = spark.sql(\"select Violation_Time_bin as violation_time_bin, count(*) as violation_count \\\n",
    "                                       from violation_time_bins_2017 \\\n",
    "                                       where Violation_Code in (21, 36, 38) \\\n",
    "                                       group by Violation_Time_bin \\\n",
    "                                       order by violation_count desc\")\n",
    "common_time_for_violation.show(6)"
   ]
  },
  {
   "cell_type": "markdown",
   "metadata": {},
   "source": [
    "Based on the above result, the most common time of the day that violations occur for violation codes 21, 36 and 38 are between 8:00 AM to 12:00 PM followed by 12:00 PM to 4:00 PM and 4:00 PM to 8:00 PM   "
   ]
  },
  {
   "cell_type": "markdown",
   "metadata": {},
   "source": [
    "#### 6.6. Let’s try and find some seasonality in this data:\n",
    "    - First, divide the year into a certain number of seasons, and find the frequencies of tickets for each season. \n",
    "      (Hint: Use Issue Date to segregate into seasons.)\n",
    "    - Then, find the three most common violations for each of these seasons.\n",
    "      (Hint: You can use an approach similar to the one mentioned in the hint for question 4.)    "
   ]
  },
  {
   "cell_type": "markdown",
   "metadata": {},
   "source": [
    "##### 6.6.1. Divide the year into a certain number of seasons, and find the frequencies of tickets for each season."
   ]
  },
  {
   "cell_type": "code",
   "execution_count": 63,
   "metadata": {},
   "outputs": [
    {
     "name": "stdout",
     "output_type": "stream",
     "text": [
      "+--------------+-------------------+--------------+------+\n",
      "|Summons_Number|         Issue_Date|Violation_Code|Season|\n",
      "+--------------+-------------------+--------------+------+\n",
      "|    8478629828|2017-06-14 00:00:00|            47|summer|\n",
      "|    5096917368|2017-06-13 00:00:00|             7|summer|\n",
      "|    1407740258|2017-01-11 00:00:00|            78|winter|\n",
      "|    1413656420|2017-02-04 00:00:00|            40|winter|\n",
      "|    8480309064|2017-01-26 00:00:00|            64|winter|\n",
      "|    1416638830|2017-04-30 00:00:00|            20|spring|\n",
      "|    4630524241|2017-02-03 00:00:00|            36|winter|\n",
      "|    8505131836|2017-05-27 00:00:00|            38|spring|\n",
      "|    8513520615|2017-05-31 00:00:00|            14|spring|\n",
      "|    8556155431|2017-05-26 00:00:00|            75|spring|\n",
      "+--------------+-------------------+--------------+------+\n",
      "only showing top 10 rows\n",
      "\n"
     ]
    }
   ],
   "source": [
    "# First let us divide the year into seasons based on the Issue Date\n",
    "\n",
    "# We shall divide the 4 seasons based on Issue Date as follows\n",
    "\n",
    "#     Spring = March to May\n",
    "#     Summer = June to August\n",
    "#     Autumn = September to November\n",
    "#     winter = December to February\n",
    "\n",
    "seasons2017 = spark.sql(\"select Summons_Number, Issue_Date, Violation_Code,  \\\n",
    "                        case \\\n",
    "                            when MONTH(TO_DATE(Issue_Date, 'MM/dd/yyyy')) between 03 and 05 \\\n",
    "                                then 'spring' \\\n",
    "                            when MONTH(TO_DATE(Issue_Date, 'MM/dd/yyyy')) between 06 and 08 \\\n",
    "                                then 'summer' \\\n",
    "                            when MONTH(TO_DATE(Issue_Date, 'MM/dd/yyyy')) between 09 and 11 \\\n",
    "                                then 'autumn' \\\n",
    "                            when MONTH(TO_DATE(Issue_Date, 'MM/dd/yyyy')) in (1,2,12) \\\n",
    "                                then 'winter' \\\n",
    "                            else 'unknown' \\\n",
    "                        end as Season \\\n",
    "                        from parking_2017\")\n",
    "\n",
    "seasons2017.show(10)"
   ]
  },
  {
   "cell_type": "code",
   "execution_count": 64,
   "metadata": {},
   "outputs": [],
   "source": [
    "# Create/Replace a Temp View\n",
    "\n",
    "seasons2017.createOrReplaceTempView(\"seasons_2017\")"
   ]
  },
  {
   "cell_type": "code",
   "execution_count": 65,
   "metadata": {},
   "outputs": [
    {
     "name": "stdout",
     "output_type": "stream",
     "text": [
      "+------+----------------+\n",
      "|season|ticket_frequency|\n",
      "+------+----------------+\n",
      "|spring|         2870491|\n",
      "|winter|         1702786|\n",
      "|summer|          852405|\n",
      "|autumn|             975|\n",
      "+------+----------------+\n",
      "\n"
     ]
    }
   ],
   "source": [
    "# Frequency of tickets based on season\n",
    "\n",
    "parking_violations_on_seasons = spark.sql(\"select Season as season, count(*) as ticket_frequency \\\n",
    "                                           from seasons_2017 \\\n",
    "                                           group by season \\\n",
    "                                           order by ticket_frequency desc\")\n",
    "parking_violations_on_seasons.show()"
   ]
  },
  {
   "cell_type": "markdown",
   "metadata": {},
   "source": [
    "##### 6.6.2. Find the three most common violations for each of these seasons."
   ]
  },
  {
   "cell_type": "code",
   "execution_count": 66,
   "metadata": {},
   "outputs": [
    {
     "name": "stdout",
     "output_type": "stream",
     "text": [
      "+--------------+---------------+\n",
      "|violation_code|violation_count|\n",
      "+--------------+---------------+\n",
      "|            21|         402234|\n",
      "|            36|         344834|\n",
      "|            38|         270913|\n",
      "+--------------+---------------+\n",
      "\n"
     ]
    }
   ],
   "source": [
    "# Three most commonly occuring violation for spring i.e. from March to May\n",
    "\n",
    "spring = spark.sql(\"select Violation_Code as violation_code, count(*) as violation_count \\\n",
    "                    from seasons_2017 \\\n",
    "                    where Season == 'spring' \\\n",
    "                    group by violation_code \\\n",
    "                    order by violation_count desc \\\n",
    "                    limit 3 \")\n",
    "spring.show()"
   ]
  },
  {
   "cell_type": "code",
   "execution_count": 67,
   "metadata": {},
   "outputs": [
    {
     "name": "stdout",
     "output_type": "stream",
     "text": [
      "+--------------+---------------+\n",
      "|violation_code|violation_count|\n",
      "+--------------+---------------+\n",
      "|            21|         238059|\n",
      "|            36|         221268|\n",
      "|            38|         187102|\n",
      "+--------------+---------------+\n",
      "\n"
     ]
    }
   ],
   "source": [
    "# Three most commonly occuring violation for winter i.e. from December to February\n",
    "\n",
    "winter = spark.sql(\"select Violation_Code as violation_code, count(*) as violation_count \\\n",
    "                    from seasons_2017 \\\n",
    "                    where Season == 'winter' \\\n",
    "                    group by violation_code \\\n",
    "                    order by violation_count desc \\\n",
    "                    limit 3 \")\n",
    "winter.show()"
   ]
  },
  {
   "cell_type": "code",
   "execution_count": 68,
   "metadata": {},
   "outputs": [
    {
     "name": "stdout",
     "output_type": "stream",
     "text": [
      "+--------------+---------------+\n",
      "|violation_code|violation_count|\n",
      "+--------------+---------------+\n",
      "|            21|         127319|\n",
      "|            36|          96663|\n",
      "|            38|          83503|\n",
      "+--------------+---------------+\n",
      "\n"
     ]
    }
   ],
   "source": [
    "# Three most commonly occuring violation for summer i.e. from June to September\n",
    "\n",
    "summer = spark.sql(\"select Violation_Code as violation_code, count(*) as violation_count \\\n",
    "                    from seasons_2017 \\\n",
    "                    where Season == 'summer' \\\n",
    "                    group by violation_code \\\n",
    "                    order by violation_count desc \\\n",
    "                    limit 3 \")\n",
    "summer.show()"
   ]
  },
  {
   "cell_type": "code",
   "execution_count": 69,
   "metadata": {},
   "outputs": [
    {
     "name": "stdout",
     "output_type": "stream",
     "text": [
      "+--------------+---------------+\n",
      "|violation_code|violation_count|\n",
      "+--------------+---------------+\n",
      "|            46|            231|\n",
      "|            21|            128|\n",
      "|            40|            115|\n",
      "+--------------+---------------+\n",
      "\n"
     ]
    }
   ],
   "source": [
    "# Three most commonly occuring violation for autumn i.e. from September to November\n",
    "\n",
    "autumn = spark.sql(\"select Violation_Code as violation_code, count(*) as violation_count \\\n",
    "                    from seasons_2017 \\\n",
    "                    where Season == 'autumn' \\\n",
    "                    group by violation_code \\\n",
    "                    order by violation_count desc \\\n",
    "                    limit 3 \")\n",
    "autumn.show()"
   ]
  },
  {
   "cell_type": "markdown",
   "metadata": {},
   "source": [
    "Per the results from above, it can be inferred that \n",
    "    - Maximum Ticket Frequency occur in Spring followed by Winter, Summer and Autumn. Autumn has the least Ticket Frequency.\n",
    "    - Most commonly occuring violation codes during Spring, Winter and Summer are 21,36 and 38\n",
    "    - Most commonly occuring violation codes during Autumn are 46, 21 and 40"
   ]
  },
  {
   "cell_type": "markdown",
   "metadata": {},
   "source": [
    "#### 6.7. The fines collected from all the instances of parking violation constitute a source of revenue for the NYC Police Department. Let’s take an example of estimating this for the three most commonly occurring codes:\n",
    "    - Find the total occurrences of the three most common violation codes.      \n",
    "    - Then, visit the website: http://www1.nyc.gov/site/finance/vehicles/services-violation-codes.page\n",
    "      It lists the fines associated with different violation codes. They’re divided into two categories: one for \n",
    "      the highest-density locations in the city and the other for the rest of the city. For the sake of simplicity, \n",
    "      take the average of the two.\n",
    "    - Using this information, find the total amount collected for the three violation codes with the maximum tickets.\n",
    "      State the code that has the highest total collection.\n",
    "    - What can you intuitively infer from these findings?"
   ]
  },
  {
   "cell_type": "markdown",
   "metadata": {},
   "source": [
    "##### 6.7.1 Find the total occurrences of the three most common violation codes.  "
   ]
  },
  {
   "cell_type": "code",
   "execution_count": 70,
   "metadata": {},
   "outputs": [
    {
     "name": "stdout",
     "output_type": "stream",
     "text": [
      "+--------------+----------------+\n",
      "|violation_code|ticket_frequency|\n",
      "+--------------+----------------+\n",
      "|            21|          767740|\n",
      "|            36|          662765|\n",
      "|            38|          541526|\n",
      "+--------------+----------------+\n",
      "\n"
     ]
    }
   ],
   "source": [
    "top_3_common_violations = spark.sql(\"select Violation_Code as violation_code, count(*) as ticket_frequency \\\n",
    "                                    from parking_2017 \\\n",
    "                                    group by violation_code \\\n",
    "                                    order by ticket_frequency desc \\\n",
    "                                    limit 3\")\n",
    "top_3_common_violations.show()"
   ]
  },
  {
   "cell_type": "markdown",
   "metadata": {},
   "source": [
    "##### 6.7.2 Find the total amount collected for the three violation codes with  maximum tickets. State the code that has the highest total collection "
   ]
  },
  {
   "cell_type": "code",
   "execution_count": 71,
   "metadata": {},
   "outputs": [
    {
     "name": "stdout",
     "output_type": "stream",
     "text": [
      "+--------------+----------------+-----------+\n",
      "|violation_code|ticket_frequency|fine_amount|\n",
      "+--------------+----------------+-----------+\n",
      "|            21|          767740|   42225700|\n",
      "|            36|          662765|   33138250|\n",
      "|            38|          541526|   27076300|\n",
      "+--------------+----------------+-----------+\n",
      "\n"
     ]
    }
   ],
   "source": [
    "# From the above result we know the top three violation codes.\n",
    "\n",
    "# As per the website, the average prices for the three violation codes are as follows:\n",
    "#   For violation code 21 = (65 + 45)/2 = $55\n",
    "#   For violation code 36 = (50 + 50)/2 = $50\n",
    "#   For violation code 38 = (65 + 35)/2 = $50\n",
    "\n",
    "from pyspark.sql.functions import when\n",
    "\n",
    "common_violations_fine_amount = top_3_common_violations \\\n",
    "                                .withColumn(\"fine_amount\",when(top_3_common_violations.violation_code == 21, \\\n",
    "                                (top_3_common_violations.ticket_frequency) *55) \\\n",
    "                                .otherwise((top_3_common_violations.ticket_frequency)*50))\n",
    "\n",
    "common_violations_fine_amount.show()"
   ]
  },
  {
   "cell_type": "markdown",
   "metadata": {},
   "source": [
    "The highest fine amount was collected for violation code 21."
   ]
  },
  {
   "cell_type": "code",
   "execution_count": 72,
   "metadata": {},
   "outputs": [
    {
     "name": "stdout",
     "output_type": "stream",
     "text": [
      "Total amount collected for the three violation codes with maximum tickets :  [Row(sum(fine_amount)=102440250)]\n"
     ]
    }
   ],
   "source": [
    "# Total amount collected for the three violation codes with maximum tickets\n",
    "\n",
    "from pyspark.sql import functions as F\n",
    "\n",
    "total = common_violations_fine_amount.agg(F.sum(\"fine_amount\")).collect()\n",
    "print('Total amount collected for the three violation codes with maximum tickets : ', total)"
   ]
  },
  {
   "cell_type": "code",
   "execution_count": 73,
   "metadata": {},
   "outputs": [
    {
     "name": "stdout",
     "output_type": "stream",
     "text": [
      "+--------------+----------------+-----------+\n",
      "|violation_code|ticket_frequency|fine_amount|\n",
      "+--------------+----------------+-----------+\n",
      "|            21|          767740|   42225700|\n",
      "+--------------+----------------+-----------+\n",
      "only showing top 1 row\n",
      "\n"
     ]
    }
   ],
   "source": [
    "# State the code that has the highest total collection\n",
    "\n",
    "common_violations_fine_amount.show(1)"
   ]
  },
  {
   "cell_type": "markdown",
   "metadata": {},
   "source": [
    "The violation code that has the highest violation is 21"
   ]
  },
  {
   "cell_type": "markdown",
   "metadata": {},
   "source": [
    "##### 6.7.3 What can you intuitively infer from these findings?"
   ]
  },
  {
   "cell_type": "markdown",
   "metadata": {},
   "source": [
    "###### Inference :\n",
    "    - Total Number of tickets issued for the year 2017 is 54,26,657.\n",
    "    - May 2017 had the highest parking tickets issued followed by March and April.\n",
    "    - There are 64 unique states where the cars that got parking tickets came from.\n",
    "    - New York has the highest parking violations followed by New Jersey and Pennsylvania.\n",
    "    - Plate Id 96089MA had the maximum parking violations.\n",
    "    - The top 3 violation codes are 21, 36 and 38\n",
    "        - Code 21 - No parking where parking is not allowed by sign, street marking or traffic control device.\n",
    "        - Code 36 - Exceeding the posted speed limit in or near a designated school zone.\n",
    "        - Code 38 - Parking Meter - Failing to show a receipt or tag in the windshield.Drivers get a 5-minute grace period \n",
    "                    past the expired time on parking meter receipts.\n",
    "    - For Vehical Body Type, maximum parking violations happen for Suburban(SUBN) followed by four door sedan(4DSD) and Van\n",
    "    - For Vehicle Make, maximum parking violations happen for Ford follwed by Toyota and Honda\n",
    "    - The top 3 violation precincts and Issuer Precincts where maximum parking violations happen are 19, 14 and 1 \n",
    "    - The top 3 violation codes across precincts 19, 14 and 1 where the parking tickets were issued are 14, 46 and 38\n",
    "        - Code 14 - General No Standing: Standing or parking where standing is not allowed by sign, street marking or; \n",
    "                    traffic control device.\n",
    "        - Code 46 - Standing or parking on the roadway side of a vehicle stopped, standing or parked at the curb; in other \n",
    "                    words also known as \"double parking\".\n",
    "    - The most common time of the day that violations occur for violation codes 21, 36 and 38 are between 8:00 AM to 12:00 PM\n",
    "      followed by 12:00 PM to 4:00 PM and 4:00 PM to 8:00 PM \n",
    "    - Maximum Ticket Frequency occur in Spring followed by Winter, Summer and Autumn. Autumn has the least Ticket Frequency.\n",
    "    - Most commonly occuring violation codes during Spring, Winter and Summer are 21,36 and 38.\n",
    "    - Most commonly occuring violation codes during Autumn are 46, 21 and 40\n",
    "    - The highest fine amount of $42,225,700 was for violation code 21.\n",
    "    - A total fine amount of $102,440,250 was collected for the three violation codes 21, 36 and 38 \n",
    "    "
   ]
  },
  {
   "cell_type": "code",
   "execution_count": 74,
   "metadata": {},
   "outputs": [],
   "source": [
    "# stop the session\n",
    "\n",
    "spark.stop()"
   ]
  },
  {
   "cell_type": "code",
   "execution_count": null,
   "metadata": {},
   "outputs": [],
   "source": []
  }
 ],
 "metadata": {
  "celltoolbar": "Raw Cell Format",
  "kernelspec": {
   "display_name": "Python 3",
   "language": "python",
   "name": "python3"
  },
  "language_info": {
   "codemirror_mode": {
    "name": "ipython",
    "version": 3
   },
   "file_extension": ".py",
   "mimetype": "text/x-python",
   "name": "python",
   "nbconvert_exporter": "python",
   "pygments_lexer": "ipython3",
   "version": "3.7.0"
  }
 },
 "nbformat": 4,
 "nbformat_minor": 2
}
